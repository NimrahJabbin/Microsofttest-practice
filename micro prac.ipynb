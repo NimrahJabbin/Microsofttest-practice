{
 "cells": [
  {
   "cell_type": "code",
   "execution_count": 7,
   "metadata": {},
   "outputs": [
    {
     "data": {
      "text/plain": [
       "'h'"
      ]
     },
     "execution_count": 7,
     "metadata": {},
     "output_type": "execute_result"
    }
   ],
   "source": [
    "def name_tel(names):\n",
    "    na=names[-1]\n",
    "    return na\n",
    "name_tel(\"nimrah\")"
   ]
  },
  {
   "cell_type": "code",
   "execution_count": 6,
   "metadata": {},
   "outputs": [
    {
     "name": "stdout",
     "output_type": "stream",
     "text": [
      "enter any number we will tell u the type of it20006\n",
      "the entered number is even\n"
     ]
    }
   ],
   "source": [
    "def num_type(num):\n",
    "    if num % 2==0:\n",
    "        print(\"the entered number is even\")\n",
    "    else:\n",
    "        print(\"the entered number is odd\")\n",
    "tel=int(input(\"enter any number we will tell u the type of it\"))\n",
    "num_type(tel)"
   ]
  },
  {
   "cell_type": "code",
   "execution_count": 42,
   "metadata": {},
   "outputs": [
    {
     "name": "stdout",
     "output_type": "stream",
     "text": [
      "4\n"
     ]
    }
   ],
   "source": [
    "def max_of_two(num1,num2):\n",
    "    if num1>num2:\n",
    "        return num1\n",
    "    else:\n",
    "        return num2\n",
    "def max_of_three(num1,num2,num3):\n",
    "    return max_of_two(num1,max_of_two(num2,num3))\n",
    "print(max_of_three(1,3,4))"
   ]
  },
  {
   "cell_type": "code",
   "execution_count": 40,
   "metadata": {},
   "outputs": [
    {
     "name": "stdout",
     "output_type": "stream",
     "text": [
      "6\n"
     ]
    }
   ],
   "source": [
    "def max_of_two( x, y ):\n",
    "    if x > y:\n",
    "        return x\n",
    "    return y\n",
    "def max_of_three( x, y, z ):\n",
    "    return max_of_two( x, max_of_two( y, z ) )\n",
    "print(max_of_three(3, 6, -5))\n"
   ]
  },
  {
   "cell_type": "code",
   "execution_count": 56,
   "metadata": {},
   "outputs": [
    {
     "name": "stdout",
     "output_type": "stream",
     "text": [
      "20\n"
     ]
    }
   ],
   "source": [
    "#Write a Python function to sum all the numbers in a list. Go to the editor\n",
    "#Sample List : (8, 2, 3, 0, 7)\n",
    "#Expected Output : 20 \n",
    "def adding_list(numlist):\n",
    "    i=0\n",
    "    for num in numlist:\n",
    "        i=i+num\n",
    "    return i\n",
    "print(adding_list((8, 2, 3, 0, 7)))"
   ]
  },
  {
   "cell_type": "code",
   "execution_count": 54,
   "metadata": {},
   "outputs": [
    {
     "name": "stdout",
     "output_type": "stream",
     "text": [
      "20\n"
     ]
    }
   ],
   "source": [
    "def sum(numbers):\n",
    "    total = 0\n",
    "    for x in numbers:\n",
    "        total += x\n",
    "    return total\n",
    "print(sum((8, 2, 3, 0, 7)))\n"
   ]
  },
  {
   "cell_type": "code",
   "execution_count": 59,
   "metadata": {},
   "outputs": [
    {
     "name": "stdout",
     "output_type": "stream",
     "text": [
      "-336\n"
     ]
    }
   ],
   "source": [
    "def adding_list(numlist):\n",
    "    i=1\n",
    "    for num in numlist:\n",
    "        i=i*num\n",
    "    return i\n",
    "print(adding_list((8, 2, 3, -1, 7)))"
   ]
  },
  {
   "cell_type": "code",
   "execution_count": 5,
   "metadata": {},
   "outputs": [
    {
     "name": "stdout",
     "output_type": "stream",
     "text": [
      "enter any stringnimrah\n",
      "harmin\n"
     ]
    }
   ],
   "source": [
    "#Write a Python program to reverse a string. Go to the editor\n",
    "#Sample String : \"1234abcd\"\n",
    "#Expected Output : \"dcba4321\"\n",
    "def rev_string(string):\n",
    "    reverse=\"\"\n",
    "    for i in string:\n",
    "        reverse=i+reverse\n",
    "    return reverse\n",
    "str=input(\"enter any string\")\n",
    "go=rev_string(str)\n",
    "print(go)"
   ]
  },
  {
   "cell_type": "code",
   "execution_count": 3,
   "metadata": {},
   "outputs": [
    {
     "name": "stdout",
     "output_type": "stream",
     "text": [
      "enter any number5\n",
      "120\n"
     ]
    }
   ],
   "source": [
    "#Write a Python function to calculate the factorial\n",
    "#of a number (a non-negative integer).\n",
    "#The function accepts the number as an argument\n",
    "def factorial(num):\n",
    "    i=1\n",
    "    fac=num\n",
    "    while i<num:\n",
    "        fac=fac*i\n",
    "        i+=1\n",
    "    return fac\n",
    "num=int(input(\"enter any number\"))\n",
    "go=factorial(num)\n",
    "print(go)"
   ]
  },
  {
   "cell_type": "code",
   "execution_count": 3,
   "metadata": {},
   "outputs": [
    {
     "name": "stdout",
     "output_type": "stream",
     "text": [
      "enter your starting range20\n",
      "enter ur ending range30\n",
      "enter any num5\n",
      "the entered number is not in range\n"
     ]
    }
   ],
   "source": [
    "#Write a Python function to check whether a number is in a given range\n",
    "def num_range(num):\n",
    "    if num in range(starting_range,ending_range+1):\n",
    "        print(\"the entered number is in range\")\n",
    "    else:\n",
    "        print(\"the entered number is not in range\")\n",
    "        \n",
    "        \n",
    "        \n",
    "        \n",
    "starting_range=int(input(\"enter your starting range\"))\n",
    "ending_range=int(input(\"enter ur ending range\"))\n",
    "num=int(input(\"enter any num\"))\n",
    "num_range(num)"
   ]
  },
  {
   "cell_type": "code",
   "execution_count": 18,
   "metadata": {},
   "outputs": [
    {
     "name": "stdout",
     "output_type": "stream",
     "text": [
      "enter any stringThe quick Brown Fox\n",
      "uppercase letters 3\n",
      "lowercase letters 13\n"
     ]
    }
   ],
   "source": [
    "#Write a Python function that accepts a string and calculate the number of upper case letters and lower case letters. Go to the editor\n",
    "#Sample String : 'The quick Brow Fox'\n",
    "#Expected Output : \n",
    "#No. of Upper case characters : 3\n",
    "#No. of Lower case Characters : 12\n",
    "def calculate(s):\n",
    "    d={\"UPPER_CASE\":0, \"LOWER_CASE\":0}\n",
    "    for i in s:\n",
    "        if i.isupper():\n",
    "          d[\"UPPER_CASE\"]+=1\n",
    "        elif i.islower():\n",
    "          d[\"LOWER_CASE\"]+=1\n",
    "        else:\n",
    "          pass\n",
    "    print(\"uppercase letters\",d[\"UPPER_CASE\"])\n",
    "    print(\"lowercase letters\",d[\"LOWER_CASE\"])\n",
    "    \n",
    "        \n",
    "s=input(\"enter any string\")\n",
    "calculate(s)\n"
   ]
  },
  {
   "cell_type": "code",
   "execution_count": 11,
   "metadata": {},
   "outputs": [
    {
     "name": "stdout",
     "output_type": "stream",
     "text": [
      "Original String :  The quick Brown Fox\n",
      "No. of Upper case characters :  3\n",
      "No. of Lower case Characters :  13\n"
     ]
    }
   ],
   "source": [
    "def string_test(s):\n",
    "    d={\"UPPER_CASE\":0, \"LOWER_CASE\":0}\n",
    "    for c in s:\n",
    "        if c.isupper():\n",
    "           d[\"UPPER_CASE\"]+=1\n",
    "        elif c.islower():\n",
    "           d[\"LOWER_CASE\"]+=1\n",
    "        else:\n",
    "           pass\n",
    "    print (\"Original String : \", s)\n",
    "    print (\"No. of Upper case characters : \", d[\"UPPER_CASE\"])\n",
    "    print (\"No. of Lower case Characters : \", d[\"LOWER_CASE\"])\n",
    "\n",
    "string_test('The quick Brown Fox')"
   ]
  },
  {
   "cell_type": "code",
   "execution_count": null,
   "metadata": {},
   "outputs": [],
   "source": []
  }
 ],
 "metadata": {
  "kernelspec": {
   "display_name": "Python 3",
   "language": "python",
   "name": "python3"
  },
  "language_info": {
   "codemirror_mode": {
    "name": "ipython",
    "version": 3
   },
   "file_extension": ".py",
   "mimetype": "text/x-python",
   "name": "python",
   "nbconvert_exporter": "python",
   "pygments_lexer": "ipython3",
   "version": "3.7.1"
  }
 },
 "nbformat": 4,
 "nbformat_minor": 2
}
