{
 "cells": [
  {
   "cell_type": "code",
   "execution_count": 2,
   "metadata": {},
   "outputs": [
    {
     "data": {
      "text/plain": [
       "20"
      ]
     },
     "execution_count": 2,
     "metadata": {},
     "output_type": "execute_result"
    }
   ],
   "source": [
    "def add_list(list):\n",
    "    i=0\n",
    "    for n in list:\n",
    "        i=i+n\n",
    "    return i\n",
    "list=[8, 2, 3, 0, 7]\n",
    "add_list(list)"
   ]
  },
  {
   "cell_type": "code",
   "execution_count": 4,
   "metadata": {},
   "outputs": [
    {
     "data": {
      "text/plain": [
       "-336"
      ]
     },
     "execution_count": 4,
     "metadata": {},
     "output_type": "execute_result"
    }
   ],
   "source": [
    "8*2*3*-1*7"
   ]
  },
  {
   "cell_type": "code",
   "execution_count": 6,
   "metadata": {},
   "outputs": [
    {
     "data": {
      "text/plain": [
       "'harmin'"
      ]
     },
     "execution_count": 6,
     "metadata": {},
     "output_type": "execute_result"
    }
   ],
   "source": [
    "def rev(string):\n",
    "    reverse=''\n",
    "    for i in string:\n",
    "        reverse=i+reverse\n",
    "    return reverse\n",
    "rev('nimrah')"
   ]
  },
  {
   "cell_type": "code",
   "execution_count": 9,
   "metadata": {},
   "outputs": [
    {
     "data": {
      "text/plain": [
       "24"
      ]
     },
     "execution_count": 9,
     "metadata": {},
     "output_type": "execute_result"
    }
   ],
   "source": [
    "def fact(num):\n",
    "    i=1\n",
    "    for n in range(1,num+1):\n",
    "        i=i*n\n",
    "    return i\n",
    "fact(4)"
   ]
  },
  {
   "cell_type": "code",
   "execution_count": 16,
   "metadata": {},
   "outputs": [
    {
     "name": "stdout",
     "output_type": "stream",
     "text": [
      "enter staring range2\n",
      "enter ending range6\n",
      "enter a number4\n",
      "number is in range\n"
     ]
    }
   ],
   "source": [
    "def ran(start,end,num):\n",
    "    if num in range(start,end+1):\n",
    "        print('number is in range')\n",
    "\n",
    "    else:\n",
    "        return 'not in range'\n",
    "\n",
    "starting_range=int(input('enter staring range'))\n",
    "ending_range=int(input('enter ending range'))\n",
    "num=int(input('enter a number'))\n",
    "ran(starting_range,ending_range,num)"
   ]
  },
  {
   "cell_type": "code",
   "execution_count": 26,
   "metadata": {},
   "outputs": [
    {
     "data": {
      "text/plain": [
       "(3, 12)"
      ]
     },
     "execution_count": 26,
     "metadata": {},
     "output_type": "execute_result"
    }
   ],
   "source": [
    "def upp(sentence):\n",
    "    uppercase=0\n",
    "    lowercase=0\n",
    "    for i in sentence:\n",
    "        if i.isupper():\n",
    "            uppercase+=1\n",
    "        elif i.islower():\n",
    "            lowercase+=1\n",
    "    return uppercase,lowercase\n",
    "            \n",
    "            \n",
    "upp('The quick Brow Fox')           "
   ]
  },
  {
   "cell_type": "code",
   "execution_count": null,
   "metadata": {},
   "outputs": [],
   "source": [
    "1,7,10,11,12,15,16,17,18,20,21,23,25,26,30,34,35,39,40  wrong answers"
   ]
  }
 ],
 "metadata": {
  "kernelspec": {
   "display_name": "Python 3",
   "language": "python",
   "name": "python3"
  },
  "language_info": {
   "codemirror_mode": {
    "name": "ipython",
    "version": 3
   },
   "file_extension": ".py",
   "mimetype": "text/x-python",
   "name": "python",
   "nbconvert_exporter": "python",
   "pygments_lexer": "ipython3",
   "version": "3.7.0"
  }
 },
 "nbformat": 4,
 "nbformat_minor": 2
}
