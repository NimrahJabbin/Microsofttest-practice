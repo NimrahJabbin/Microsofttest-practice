{
 "cells": [
  {
   "cell_type": "markdown",
   "metadata": {},
   "source": [
    "# operators"
   ]
  },
  {
   "cell_type": "code",
   "execution_count": null,
   "metadata": {},
   "outputs": [],
   "source": [
    "Unary operators in C/C++\n",
    "Unary operator: are operators that act upon a single operand to produce a new value.\n",
    "\n",
    "Types of unary operators:\n",
    "\n",
    "unary minus(-)      changes the sign\n",
    "increment(++)       increase a value by 1 if++ is before the number it will increment 1 but if ++is after the number thanit is incremented after the first execusion \n",
    "decrement(- -)\n",
    "NOT(!)\n",
    "Addressof operator(&)\n",
    "sizeof()\n",
    "pythn mein c0mplement hota hai~"
   ]
  },
  {
   "cell_type": "code",
   "execution_count": 9,
   "metadata": {},
   "outputs": [
    {
     "data": {
      "text/plain": [
       "1"
      ]
     },
     "execution_count": 9,
     "metadata": {},
     "output_type": "execute_result"
    }
   ],
   "source": [
    "~-2\n"
   ]
  },
  {
   "cell_type": "code",
   "execution_count": 10,
   "metadata": {},
   "outputs": [
    {
     "data": {
      "text/plain": [
       "-3"
      ]
     },
     "execution_count": 10,
     "metadata": {},
     "output_type": "execute_result"
    }
   ],
   "source": [
    "~2"
   ]
  },
  {
   "cell_type": "code",
   "execution_count": 11,
   "metadata": {},
   "outputs": [
    {
     "data": {
      "text/plain": [
       "2"
      ]
     },
     "execution_count": 11,
     "metadata": {},
     "output_type": "execute_result"
    }
   ],
   "source": [
    "~-3"
   ]
  },
  {
   "cell_type": "code",
   "execution_count": 12,
   "metadata": {},
   "outputs": [
    {
     "ename": "SyntaxError",
     "evalue": "invalid syntax (<ipython-input-12-1702ff9b75c6>, line 1)",
     "output_type": "error",
     "traceback": [
      "\u001b[1;36m  File \u001b[1;32m\"<ipython-input-12-1702ff9b75c6>\"\u001b[1;36m, line \u001b[1;32m1\u001b[0m\n\u001b[1;33m    https://www.programiz.com/python-programming/precedence-associativity#precedence\u001b[0m\n\u001b[1;37m           ^\u001b[0m\n\u001b[1;31mSyntaxError\u001b[0m\u001b[1;31m:\u001b[0m invalid syntax\n"
     ]
    }
   ],
   "source": [
    "https://www.programiz.com/python-programming/precedence-associativity#precedence"
   ]
  },
  {
   "cell_type": "code",
   "execution_count": 14,
   "metadata": {},
   "outputs": [
    {
     "data": {
      "text/plain": [
       "11"
      ]
     },
     "execution_count": 14,
     "metadata": {},
     "output_type": "execute_result"
    }
   ],
   "source": [
    "2+6//1**2-2+5"
   ]
  },
  {
   "cell_type": "code",
   "execution_count": 15,
   "metadata": {},
   "outputs": [
    {
     "data": {
      "text/plain": [
       "15"
      ]
     },
     "execution_count": 15,
     "metadata": {},
     "output_type": "execute_result"
    }
   ],
   "source": [
    "3+2*6-7//3**2"
   ]
  },
  {
   "cell_type": "markdown",
   "metadata": {},
   "source": [
    "# string formatting"
   ]
  },
  {
   "cell_type": "code",
   "execution_count": null,
   "metadata": {},
   "outputs": [],
   "source": [
    "https://pyformat.info/"
   ]
  },
  {
   "cell_type": "code",
   "execution_count": 4,
   "metadata": {},
   "outputs": [
    {
     "name": "stdout",
     "output_type": "stream",
     "text": [
      "my name is nimrah and im 21 years old\n"
     ]
    }
   ],
   "source": [
    "d={'name':'nimrah', 'age':21}\n",
    "print('my name is {0} and im {1} years old'.format(d['name'],d['age']))"
   ]
  },
  {
   "cell_type": "code",
   "execution_count": 12,
   "metadata": {},
   "outputs": [
    {
     "name": "stdout",
     "output_type": "stream",
     "text": [
      "my name is nimrah and im 21 years old\n"
     ]
    }
   ],
   "source": [
    "d={'name':'nimrah', 'age':21}\n",
    "print('my name is {} and im {} years old'.format(d['name'],d['age']))"
   ]
  },
  {
   "cell_type": "code",
   "execution_count": 9,
   "metadata": {},
   "outputs": [
    {
     "name": "stdout",
     "output_type": "stream",
     "text": [
      "my name is nimrah and im 21 years old\n"
     ]
    }
   ],
   "source": [
    "d={'name':'nimrah', 'age':21}\n",
    "print('my name is {0[name]} and im {0[age]} years old'.format(d,d))"
   ]
  },
  {
   "cell_type": "code",
   "execution_count": 13,
   "metadata": {},
   "outputs": [
    {
     "name": "stdout",
     "output_type": "stream",
     "text": [
      "my name is nimrah and im 21 years old\n"
     ]
    }
   ],
   "source": [
    "d={'name':'nimrah', 'age':21}\n",
    "print('my name is {[name]} and im {[age]} years old'.format(d,d))"
   ]
  },
  {
   "cell_type": "code",
   "execution_count": 5,
   "metadata": {},
   "outputs": [
    {
     "name": "stdout",
     "output_type": "stream",
     "text": [
      "my name is nimrah and im 21\n"
     ]
    }
   ],
   "source": [
    "l=['nimrah',21]\n",
    "print('my name is {0[0]} and im {0[1]}'.format(l))"
   ]
  },
  {
   "cell_type": "code",
   "execution_count": 11,
   "metadata": {},
   "outputs": [
    {
     "name": "stdout",
     "output_type": "stream",
     "text": [
      "my name is nimrah and im 21 years old\n"
     ]
    }
   ],
   "source": [
    "class person():\n",
    "    def __init__(self,name,age):\n",
    "        self.name=name\n",
    "        self.age=age\n",
    "t=person('nimrah',21)\n",
    "print('my name is {0.name} and im {0.age} years old'.format(t))\n",
    "        "
   ]
  },
  {
   "cell_type": "code",
   "execution_count": 20,
   "metadata": {},
   "outputs": [
    {
     "name": "stdout",
     "output_type": "stream",
     "text": [
      "my name is nimrah and im 21 years old\n"
     ]
    }
   ],
   "source": [
    "print('my name is {name} and im {age} years old'.format(name='nimrah',age=21))"
   ]
  },
  {
   "cell_type": "code",
   "execution_count": 26,
   "metadata": {},
   "outputs": [
    {
     "name": "stdout",
     "output_type": "stream",
     "text": [
      "my name is nimrah and im 21 years old\n"
     ]
    }
   ],
   "source": [
    "d={'name':'nimrah', 'age':21}\n",
    "print('my name is {name} and im {age} years old'.format(**d))"
   ]
  },
  {
   "cell_type": "code",
   "execution_count": 34,
   "metadata": {},
   "outputs": [
    {
     "name": "stdout",
     "output_type": "stream",
     "text": [
      "Numbers Without Padding Format is 0\n",
      "the number with padding 02 is 00\n",
      "the number with padding 03 is 00\n",
      "Numbers Without Padding Format is 1\n",
      "the number with padding 02 is 01\n",
      "the number with padding 03 is 01\n",
      "Numbers Without Padding Format is 2\n",
      "the number with padding 02 is 02\n",
      "the number with padding 03 is 02\n",
      "Numbers Without Padding Format is 3\n",
      "the number with padding 02 is 03\n",
      "the number with padding 03 is 03\n",
      "Numbers Without Padding Format is 4\n",
      "the number with padding 02 is 04\n",
      "the number with padding 03 is 04\n",
      "Numbers Without Padding Format is 5\n",
      "the number with padding 02 is 05\n",
      "the number with padding 03 is 05\n",
      "Numbers Without Padding Format is 6\n",
      "the number with padding 02 is 06\n",
      "the number with padding 03 is 06\n",
      "Numbers Without Padding Format is 7\n",
      "the number with padding 02 is 07\n",
      "the number with padding 03 is 07\n",
      "Numbers Without Padding Format is 8\n",
      "the number with padding 02 is 08\n",
      "the number with padding 03 is 08\n",
      "Numbers Without Padding Format is 9\n",
      "the number with padding 02 is 09\n",
      "the number with padding 03 is 09\n",
      "Numbers Without Padding Format is 10\n",
      "the number with padding 02 is 10\n",
      "the number with padding 03 is 10\n"
     ]
    }
   ],
   "source": [
    "for i in range(0,11):\n",
    "    print('Numbers Without Padding Format is {}'.format(i))"
   ]
  },
  {
   "cell_type": "code",
   "execution_count": 38,
   "metadata": {},
   "outputs": [
    {
     "name": "stdout",
     "output_type": "stream",
     "text": [
      "the number with padding is 00\n",
      "the number with padding is 01\n",
      "the number with padding is 02\n",
      "the number with padding is 03\n",
      "the number with padding is 04\n",
      "the number with padding is 05\n",
      "the number with padding is 06\n",
      "the number with padding is 07\n",
      "the number with padding is 08\n",
      "the number with padding is 09\n",
      "the number with padding is 10\n"
     ]
    }
   ],
   "source": [
    "for i in range(0,11):\n",
    "    print('the number with padding is {:02}'.format(i))     #here {:02} means padding zero and the total length of number is two"
   ]
  },
  {
   "cell_type": "code",
   "execution_count": 37,
   "metadata": {},
   "outputs": [
    {
     "name": "stdout",
     "output_type": "stream",
     "text": [
      "the number with padding is 000\n",
      "the number with padding is 001\n",
      "the number with padding is 002\n",
      "the number with padding is 003\n",
      "the number with padding is 004\n",
      "the number with padding is 005\n",
      "the number with padding is 006\n",
      "the number with padding is 007\n",
      "the number with padding is 008\n",
      "the number with padding is 009\n",
      "the number with padding is 010\n"
     ]
    }
   ],
   "source": [
    "for i in range(0,11):\n",
    "    print('the number with padding is {:03}'.format(i)) "
   ]
  },
  {
   "cell_type": "code",
   "execution_count": 47,
   "metadata": {},
   "outputs": [
    {
     "name": "stdout",
     "output_type": "stream",
     "text": [
      "two decimal places of pi will be    3.14\n"
     ]
    }
   ],
   "source": [
    "pi=3.14159265\n",
    "print('two decimal places of pi will be    {:.2f}'.format(pi))"
   ]
  },
  {
   "cell_type": "code",
   "execution_count": 50,
   "metadata": {},
   "outputs": [
    {
     "name": "stdout",
     "output_type": "stream",
     "text": [
      "1MB i equal to 1,000,000\n",
      "1MB i equal to 1,000,000.00\n"
     ]
    }
   ],
   "source": [
    "print('1MB i equal to {:,}'.format(1000**2))   #this will add comas to the number\n",
    "print('1MB i equal to {:,.2f}'.format(1000**2))  #this will add comas and also two number after decimal"
   ]
  },
  {
   "cell_type": "code",
   "execution_count": 53,
   "metadata": {},
   "outputs": [
    {
     "name": "stdout",
     "output_type": "stream",
     "text": [
      "2019-08-11 10:57:00\n"
     ]
    }
   ],
   "source": [
    "import datetime\n",
    "my_date=datetime.datetime(2019,8,11,10,57,0)\n",
    "print(my_date)"
   ]
  },
  {
   "cell_type": "code",
   "execution_count": 58,
   "metadata": {},
   "outputs": [
    {
     "name": "stdout",
     "output_type": "stream",
     "text": [
      "November 08, 2019\n"
     ]
    }
   ],
   "source": [
    "import datetime\n",
    "my_date=datetime.datetime(2019,11,8,10,57,0)\n",
    "print('{:%B %d, %Y}'.format(my_date))"
   ]
  },
  {
   "cell_type": "code",
   "execution_count": 63,
   "metadata": {},
   "outputs": [
    {
     "name": "stdout",
     "output_type": "stream",
     "text": [
      "November 08, 2019 fell on a Friday and was the ?312 day of the year\n"
     ]
    }
   ],
   "source": [
    "import datetime\n",
    "my_date=datetime.datetime(2019,11,8,10,57,0)\n",
    "# march 01, 2016 fell on a tuesday and was 061 day of the year\n",
    "print('{0:%B %d, %Y} fell on a {0:%A} and was the {0:%j} day of the year'.format(my_date))"
   ]
  },
  {
   "cell_type": "code",
   "execution_count": 64,
   "metadata": {},
   "outputs": [
    {
     "name": "stdout",
     "output_type": "stream",
     "text": [
      "my name is nimrah im 21 year old\n"
     ]
    }
   ],
   "source": [
    "name='nimrah'\n",
    "age=21\n",
    "print(f'my name is {name} im {age} year old') #easy way instead of .format"
   ]
  },
  {
   "cell_type": "code",
   "execution_count": 65,
   "metadata": {},
   "outputs": [
    {
     "name": "stdout",
     "output_type": "stream",
     "text": [
      "my name is NIMRAH im 21 year old\n"
     ]
    }
   ],
   "source": [
    "name='nimrah'\n",
    "age=21\n",
    "print(f'my name is {name.upper()} im {age} year old')"
   ]
  },
  {
   "cell_type": "code",
   "execution_count": 68,
   "metadata": {},
   "outputs": [
    {
     "name": "stdout",
     "output_type": "stream",
     "text": [
      "value of pi 3.1416\n"
     ]
    }
   ],
   "source": [
    "pi=3.14159265\n",
    "print(f'value of pi {pi:.4f}')"
   ]
  },
  {
   "cell_type": "code",
   "execution_count": 91,
   "metadata": {
    "scrolled": true
   },
   "outputs": [
    {
     "name": "stdout",
     "output_type": "stream",
     "text": [
      "test                \n",
      "                test\n",
      "test                \n"
     ]
    }
   ],
   "source": [
    "#'%-10s' % ('test',)\n",
    "#Padding and aligning strings\n",
    "print('{:20}'.format('test'))\n",
    "print('{:>20}'.format('test'))  #right allign\n",
    "print('{:<20}'.format('test')) #left allign"
   ]
  },
  {
   "cell_type": "code",
   "execution_count": 96,
   "metadata": {},
   "outputs": [
    {
     "name": "stdout",
     "output_type": "stream",
     "text": [
      "test................\n",
      "----------------test\n",
      "test^^^^^^^^^^^^^^^^\n",
      ">>>>>>>>test>>>>>>>>\n",
      "test................\n",
      "        test        \n"
     ]
    }
   ],
   "source": [
    "print('{:.<20}'.format('test'))\n",
    "print('{:->20}'.format('test'))\n",
    "print('{:^<20}'.format('test'))\n",
    "print('{:>^20}'.format('test'))\n",
    "print('{:.<20}'.format('test'))\n",
    "print('{:^20}'.format('test')) #center allign"
   ]
  },
  {
   "cell_type": "code",
   "execution_count": 101,
   "metadata": {
    "scrolled": true
   },
   "outputs": [
    {
     "name": "stdout",
     "output_type": "stream",
     "text": [
      " zip  \n"
     ]
    },
    {
     "data": {
      "text/plain": [
       "'-zip--'"
      ]
     },
     "execution_count": 101,
     "metadata": {},
     "output_type": "execute_result"
    }
   ],
   "source": [
    "print('{:^6}'.format('zip'))\n",
    "'{:-^6}'.format('zip')"
   ]
  },
  {
   "cell_type": "code",
   "execution_count": 102,
   "metadata": {},
   "outputs": [
    {
     "data": {
      "text/plain": [
       "'xylop'"
      ]
     },
     "execution_count": 102,
     "metadata": {},
     "output_type": "execute_result"
    }
   ],
   "source": [
    "#Truncating long strings\n",
    "\n",
    "'{:.5}'.format('xylophone')"
   ]
  },
  {
   "cell_type": "code",
   "execution_count": 103,
   "metadata": {},
   "outputs": [
    {
     "data": {
      "text/plain": [
       "'xylop     '"
      ]
     },
     "execution_count": 103,
     "metadata": {},
     "output_type": "execute_result"
    }
   ],
   "source": [
    "#Combining truncating and padding\n",
    "'{:10.5}'.format('xylophone') #10 jo hai wo ten jaga lega r .5 string ko 5 mein torey ga"
   ]
  },
  {
   "cell_type": "code",
   "execution_count": 111,
   "metadata": {},
   "outputs": [
    {
     "name": "stdout",
     "output_type": "stream",
     "text": [
      "42\n",
      "3.141593\n"
     ]
    }
   ],
   "source": [
    "#numbers\n",
    "\n",
    "\n",
    "#integers\n",
    "print('{:d}'.format(42))\n",
    "\n",
    "#float\n",
    "print('{:f}'.format(3.141592653589793))"
   ]
  },
  {
   "cell_type": "code",
   "execution_count": 109,
   "metadata": {},
   "outputs": [
    {
     "data": {
      "text/plain": [
       "'    42'"
      ]
     },
     "execution_count": 109,
     "metadata": {},
     "output_type": "execute_result"
    }
   ],
   "source": [
    "#Padding numbers\n",
    "'{:4d}'.format(42)#yahan 4 jo hai wo four spaces book kr le ga"
   ]
  },
  {
   "cell_type": "code",
   "execution_count": 115,
   "metadata": {},
   "outputs": [
    {
     "data": {
      "text/plain": [
       "'003.14'"
      ]
     },
     "execution_count": 115,
     "metadata": {},
     "output_type": "execute_result"
    }
   ],
   "source": [
    "'{:06.2f}'.format(3.141592653589793) #06 six spaces bookrey ga r agr number kam hain \n",
    "                                    #to shuru mein 0 khud laga de ga r 2f decinal k baad two numbers le ga"
   ]
  },
  {
   "cell_type": "code",
   "execution_count": 116,
   "metadata": {},
   "outputs": [
    {
     "data": {
      "text/plain": [
       "'0042'"
      ]
     },
     "execution_count": 116,
     "metadata": {},
     "output_type": "execute_result"
    }
   ],
   "source": [
    "'{:04d}'.format(42)"
   ]
  },
  {
   "cell_type": "code",
   "execution_count": 21,
   "metadata": {},
   "outputs": [
    {
     "name": "stdout",
     "output_type": "stream",
     "text": [
      "my name is {'name': 'nimrah', 'age': 21} and im {'name': 'nimrah', 'age': 21} years old\n"
     ]
    }
   ],
   "source": [
    "d={'name':'nimrah', 'age':21}\n",
    "print('my name is {0} and im {1} years old'.format(d,d))"
   ]
  },
  {
   "cell_type": "code",
   "execution_count": 125,
   "metadata": {},
   "outputs": [
    {
     "name": "stdout",
     "output_type": "stream",
     "text": [
      "+42\n",
      "-23\n",
      " 42\n",
      "-  23\n"
     ]
    }
   ],
   "source": [
    "#signed number\n",
    "print('{:+d}'.format(42))\n",
    "print('{: d}'.format((- 23)))\n",
    "print('{: d}'.format(42))\n",
    "print('{:=5d}'.format((- 23)))"
   ]
  },
  {
   "cell_type": "code",
   "execution_count": 126,
   "metadata": {},
   "outputs": [
    {
     "data": {
      "text/plain": [
       "'Hodor Hodor!'"
      ]
     },
     "execution_count": 126,
     "metadata": {},
     "output_type": "execute_result"
    }
   ],
   "source": [
    "#Named placeholders\n",
    "data = {'first': 'Hodor', 'last': 'Hodor!'}\n",
    "'{first} {last}'.format(**data)"
   ]
  },
  {
   "cell_type": "code",
   "execution_count": 127,
   "metadata": {},
   "outputs": [
    {
     "data": {
      "text/plain": [
       "'Jean-Luc Picard'"
      ]
     },
     "execution_count": 127,
     "metadata": {},
     "output_type": "execute_result"
    }
   ],
   "source": [
    "#Getitem and Getattr\n",
    "person = {'first': 'Jean-Luc', 'last': 'Picard'}\n",
    "'{p[first]} {p[last]}'.format(p=person)"
   ]
  },
  {
   "cell_type": "code",
   "execution_count": 128,
   "metadata": {},
   "outputs": [
    {
     "data": {
      "text/plain": [
       "'23 42'"
      ]
     },
     "execution_count": 128,
     "metadata": {},
     "output_type": "execute_result"
    }
   ],
   "source": [
    "data = [4, 8, 15, 16, 23, 42]\n",
    "'{d[4]} {d[5]}'.format(d=data)"
   ]
  },
  {
   "cell_type": "code",
   "execution_count": 129,
   "metadata": {},
   "outputs": [
    {
     "data": {
      "text/plain": [
       "'tree'"
      ]
     },
     "execution_count": 129,
     "metadata": {},
     "output_type": "execute_result"
    }
   ],
   "source": [
    "class Plant(object):\n",
    "    type = 'tree'\n",
    "'{p.type}'.format(p=Plant())"
   ]
  },
  {
   "cell_type": "code",
   "execution_count": 132,
   "metadata": {},
   "outputs": [
    {
     "data": {
      "text/plain": [
       "'tree: oak'"
      ]
     },
     "execution_count": 132,
     "metadata": {},
     "output_type": "execute_result"
    }
   ],
   "source": [
    "class Plant(object):\n",
    "    type = 'tree'\n",
    "    kinds = [{'name': 'oak'}, {'name': 'maple'}]\n",
    "'{p.type}: {p.kinds[0][name]}'.format(p=Plant())"
   ]
  },
  {
   "cell_type": "code",
   "execution_count": 133,
   "metadata": {},
   "outputs": [
    {
     "data": {
      "text/plain": [
       "'2001-02-03 04:05'"
      ]
     },
     "execution_count": 133,
     "metadata": {},
     "output_type": "execute_result"
    }
   ],
   "source": [
    "#datetime\n",
    "from datetime import datetime\n",
    "'{:%Y-%m-%d %H:%M}'.format(datetime(2001, 2, 3, 4, 5))"
   ]
  },
  {
   "cell_type": "code",
   "execution_count": 134,
   "metadata": {},
   "outputs": [
    {
     "data": {
      "text/plain": [
       "'   test   '"
      ]
     },
     "execution_count": 134,
     "metadata": {},
     "output_type": "execute_result"
    }
   ],
   "source": [
    "#Parametrized formats\n",
    "'{:{align}{width}}'.format('test', align='^', width='10')"
   ]
  },
  {
   "cell_type": "code",
   "execution_count": 135,
   "metadata": {
    "scrolled": true
   },
   "outputs": [
    {
     "data": {
      "text/plain": [
       "'Gib = 2.718'"
      ]
     },
     "execution_count": 135,
     "metadata": {},
     "output_type": "execute_result"
    }
   ],
   "source": [
    "'{:.{prec}} = {:.{prec}f}'.format('Gibberish', 2.7182, prec=3)"
   ]
  },
  {
   "cell_type": "code",
   "execution_count": 137,
   "metadata": {
    "scrolled": true
   },
   "outputs": [
    {
     "data": {
      "text/plain": [
       "'Gibber'"
      ]
     },
     "execution_count": 137,
     "metadata": {},
     "output_type": "execute_result"
    }
   ],
   "source": [
    "'{:.6}'.format('Gibberish')"
   ]
  },
  {
   "cell_type": "code",
   "execution_count": 138,
   "metadata": {},
   "outputs": [
    {
     "data": {
      "text/plain": [
       "' 2.72'"
      ]
     },
     "execution_count": 138,
     "metadata": {},
     "output_type": "execute_result"
    }
   ],
   "source": [
    "'{:{width}.{prec}f}'.format(2.7182, width=5, prec=2)"
   ]
  },
  {
   "cell_type": "code",
   "execution_count": 139,
   "metadata": {},
   "outputs": [
    {
     "data": {
      "text/plain": [
       "'Gib = 2.72'"
      ]
     },
     "execution_count": 139,
     "metadata": {},
     "output_type": "execute_result"
    }
   ],
   "source": [
    "'{:{prec}} = {:{prec}}'.format('Gibberish', 2.7182, prec='.3')"
   ]
  },
  {
   "cell_type": "code",
   "execution_count": 140,
   "metadata": {},
   "outputs": [
    {
     "data": {
      "text/plain": [
       "'2001-02-03 04:05'"
      ]
     },
     "execution_count": 140,
     "metadata": {},
     "output_type": "execute_result"
    }
   ],
   "source": [
    "from datetime import datetime\n",
    "dt = datetime(2001, 2, 3, 4, 5)\n",
    "'{:{dfmt} {tfmt}}'.format(dt, dfmt='%Y-%m-%d', tfmt='%H:%M')"
   ]
  },
  {
   "cell_type": "code",
   "execution_count": 141,
   "metadata": {},
   "outputs": [
    {
     "data": {
      "text/plain": [
       "'     +2.72'"
      ]
     },
     "execution_count": 141,
     "metadata": {},
     "output_type": "execute_result"
    }
   ],
   "source": [
    "'{:{}{sign}{}.{}}'.format(2.7182818284, '>', 10, 3, sign='+')"
   ]
  },
  {
   "cell_type": "code",
   "execution_count": 142,
   "metadata": {},
   "outputs": [
    {
     "data": {
      "text/plain": [
       "\"I'm afraid I can't do that.\""
      ]
     },
     "execution_count": 142,
     "metadata": {},
     "output_type": "execute_result"
    }
   ],
   "source": [
    "#Custom objects\n",
    "class HAL9000(object):\n",
    "\n",
    "    def __format__(self, format):\n",
    "        if (format == 'open-the-pod-bay-doors'):\n",
    "            return \"I'm afraid I can't do that.\"\n",
    "        return 'HAL 9000'\n",
    "'{:open-the-pod-bay-doors}'.format(HAL9000())"
   ]
  },
  {
   "cell_type": "code",
   "execution_count": 82,
   "metadata": {},
   "outputs": [
    {
     "data": {
      "text/plain": [
       "'str repr repr'"
      ]
     },
     "execution_count": 82,
     "metadata": {},
     "output_type": "execute_result"
    }
   ],
   "source": [
    "\n",
    "#Value conversion\n",
    "\n",
    "class Data(object):\n",
    "\n",
    "    def __str__(self):\n",
    "        return 'str'\n",
    "\n",
    "    def __repr__(self):\n",
    "        return 'repr'\n",
    "    \n",
    "    \n",
    "'{0!s} {0!r} {0!a}'.format(Data())"
   ]
  },
  {
   "cell_type": "code",
   "execution_count": 83,
   "metadata": {},
   "outputs": [
    {
     "data": {
      "text/plain": [
       "'str repr'"
      ]
     },
     "execution_count": 83,
     "metadata": {},
     "output_type": "execute_result"
    }
   ],
   "source": [
    "class Data(object):\n",
    "\n",
    "    def __str__(self):\n",
    "        return 'str'\n",
    "\n",
    "    def __repr__(self):\n",
    "        return 'repr'\n",
    "    \n",
    "    \n",
    "'{0!s} {0!r}'.format(Data())"
   ]
  },
  {
   "cell_type": "code",
   "execution_count": 84,
   "metadata": {},
   "outputs": [
    {
     "data": {
      "text/plain": [
       "'räpr r\\\\xe4pr'"
      ]
     },
     "execution_count": 84,
     "metadata": {},
     "output_type": "execute_result"
    }
   ],
   "source": [
    "class Data(object):\n",
    "\n",
    "    def __repr__(self):\n",
    "        return 'räpr'\n",
    "'{0!r} {0!a}'.format(Data())"
   ]
  },
  {
   "cell_type": "markdown",
   "metadata": {},
   "source": [
    "# os module"
   ]
  },
  {
   "cell_type": "code",
   "execution_count": 14,
   "metadata": {},
   "outputs": [
    {
     "data": {
      "text/plain": [
       "'nt'"
      ]
     },
     "execution_count": 14,
     "metadata": {},
     "output_type": "execute_result"
    }
   ],
   "source": [
    "import os \n",
    "os.name"
   ]
  },
  {
   "cell_type": "code",
   "execution_count": 5,
   "metadata": {},
   "outputs": [
    {
     "name": "stdout",
     "output_type": "stream",
     "text": [
      "C:\\Users\\uni-tech\\Downloads\n"
     ]
    },
    {
     "ename": "FileExistsError",
     "evalue": "[WinError 183] Cannot create a file when that file already exists: 'not_important1'",
     "output_type": "error",
     "traceback": [
      "\u001b[1;31m---------------------------------------------------------------------------\u001b[0m",
      "\u001b[1;31mFileExistsError\u001b[0m                           Traceback (most recent call last)",
      "\u001b[1;32m<ipython-input-5-8c13e39edc03>\u001b[0m in \u001b[0;36m<module>\u001b[1;34m()\u001b[0m\n\u001b[0;32m      1\u001b[0m \u001b[1;32mimport\u001b[0m \u001b[0mos\u001b[0m\u001b[1;33m\u001b[0m\u001b[0m\n\u001b[0;32m      2\u001b[0m \u001b[0mprint\u001b[0m\u001b[1;33m(\u001b[0m\u001b[0mos\u001b[0m\u001b[1;33m.\u001b[0m\u001b[0mgetcwd\u001b[0m\u001b[1;33m(\u001b[0m\u001b[1;33m)\u001b[0m\u001b[1;33m)\u001b[0m  \u001b[1;31m#tells the current directory\u001b[0m\u001b[1;33m\u001b[0m\u001b[0m\n\u001b[1;32m----> 3\u001b[1;33m \u001b[0mos\u001b[0m\u001b[1;33m.\u001b[0m\u001b[0mmkdir\u001b[0m\u001b[1;33m(\u001b[0m\u001b[1;34m'not_important1'\u001b[0m\u001b[1;33m)\u001b[0m   \u001b[1;31m#make a new file 'not_important1'inthe current diractory\u001b[0m\u001b[1;33m\u001b[0m\u001b[0m\n\u001b[0m\u001b[0;32m      4\u001b[0m \u001b[1;31m#if we want to check whether the file exist r not we use os.path.exists\u001b[0m\u001b[1;33m\u001b[0m\u001b[1;33m\u001b[0m\u001b[0m\n\u001b[0;32m      5\u001b[0m \u001b[0mprint\u001b[0m\u001b[1;33m(\u001b[0m\u001b[0mos\u001b[0m\u001b[1;33m.\u001b[0m\u001b[0mpath\u001b[0m\u001b[1;33m.\u001b[0m\u001b[0mexists\u001b[0m\u001b[1;33m(\u001b[0m\u001b[1;34m'not_important1'\u001b[0m\u001b[1;33m)\u001b[0m\u001b[1;33m)\u001b[0m\u001b[1;33m\u001b[0m\u001b[0m\n",
      "\u001b[1;31mFileExistsError\u001b[0m: [WinError 183] Cannot create a file when that file already exists: 'not_important1'"
     ]
    }
   ],
   "source": [
    "import os\n",
    "print(os.getcwd())  #tells the current directory\n",
    "os.mkdir('not_important1')   #make a new folder 'not_important1'inthe current diractory"
   ]
  },
  {
   "cell_type": "code",
   "execution_count": 6,
   "metadata": {},
   "outputs": [
    {
     "name": "stdout",
     "output_type": "stream",
     "text": [
      "True\n"
     ]
    }
   ],
   "source": [
    "#if we want to check whether the folder exist r not we use os.path.exists\n",
    "print(os.path.exists('not_important1'))\n"
   ]
  },
  {
   "cell_type": "code",
   "execution_count": 7,
   "metadata": {},
   "outputs": [],
   "source": [
    "#create file\n",
    "open('duck.text','a').close() #this will create file"
   ]
  },
  {
   "cell_type": "code",
   "execution_count": 21,
   "metadata": {},
   "outputs": [],
   "source": [
    "#now if want to create a folder in some other directory then i have to add a full path and \\\n",
    "#like i want to create a folder in documents having path C:\\Users\\uni-tech\\Documents\n",
    "os.mkdir(r'C:\\Users\\uni-tech\\Documents\\cards.text')\n",
    "#aik r tareeka ye hai k aap apni current directory change kr dein esay    \n",
    "#os.chdir(r'C:\\Users\\uni-tech\\Documents')    \n",
    "#ab aap folder bna sktey hain mkdir se r path daalney ki zarurat nhi"
   ]
  },
  {
   "cell_type": "code",
   "execution_count": 10,
   "metadata": {},
   "outputs": [
    {
     "name": "stdout",
     "output_type": "stream",
     "text": [
      "['.ipynb_checkpoints', '001001190163465-1.PDF', '006001190147624-1 (1).PDF', '006001190147624-1.PDF', '006001190291076-1.PDF', '006001190291076-2.PDF', '006001190291076-3.PDF', '006001190291076-4.PDF', '006001190291076-5.PDF', '1f0e22abc84295aadd9f4f8db9a5f724.jpg', '69bb83318f6c2f7630661b95f1385195.jpg', '756.JPG', 'aaniee.pptx', 'ACKNOWLEDGEMENT (1).docx', 'ACKNOWLEDGEMENT (2).docx', 'ACKNOWLEDGEMENT (3).docx', 'ACKNOWLEDGEMENT.docx', 'AINNIE CV (1).doc', 'AINNIE CV.doc', 'AlbumArtSmall.jpg', 'Anaconda3-5.3.0-Windows-x86_64.exe', 'Baatein Ye Kabhi Na Arjit Singh Khamoshiyan [Songsx.Pk].mp3', 'bacteriocinactivitylactobacillusparacaseiisolatedfromdonkeymilk (1).pdf', 'bacteriocinactivitylactobacillusparacaseiisolatedfromdonkeymilk.pdf', 'bsek-karachi-board-matric-revised-date-sheet-2019.jpg', 'Cell lines', 'ChromeSetup (1).exe', 'ChromeSetup (2).exe', 'ChromeSetup.exe', 'Classic-CV-Template.docx', 'Coke Studio Season 12 Ram Pam Zoe Viccaji & Shahab Hussain.mp3', 'Coke Studio Season 12 Wohi Khuda Hai Atif Aslam.mp3', 'COMPLEMENT SYSTEM 601.ppt', 'cu xray group 11-12', 'CURRICULUM VITAE PARVAIZ.doc', 'cv (1).docx', 'cv (2).docx', 'cv (3).docx', 'cv (4).docx', 'cv.docx', 'desktop.ini', 'donuts.ipynb', 'duck.text', 'FARAH MALIK - Copy(1) (1).ppt', 'FARAH MALIK - Copy(1).ppt', 'Farhan Ali Waris Maan Agai Hussain Noha 2013.mp3', 'FINAL THESIS (DO NOT TOUCH) (1).pdf', 'FINAL THESIS (DO NOT TOUCH).pdf', 'FINAL THESIS OK 2.docx', 'Folder.jpg', 'furelise.mid', 'General Microbiology Laboratory Quiz.docx', 'Git-2.19.2-64-bit.exe', 'GitHubDesktopSetup.exe', 'internal-use-of-tinctures.pdf', 'j.ipynb', 'Jo Bheji Thi Dua - Shanghai (Shekhar _ Nandini).FLV.mp3', 'may dhundnay zamanay ko (1).wav', 'may dhundnay zamanay ko.wav', 'micro prac.ipynb', 'microsoft.train4sure.98-381.v2019-09-01.by.christian.22q.vce', 'mirosoft Exam Questions samples (1).enc', 'mirosoft Exam Questions samples (2).enc', 'mirosoft Exam Questions samples.enc', 'new_micro.ipynb', 'not_important', 'not_important1', 'nousheen thesis book (1).docx', 'nousheen thesis book.docx', 'Python_Assignments_1to6', 'Python_Assignments_1to6.zip', 'recall.doc', 'rufus.ini', 'sahil pay khary ho chalay jana.wav', 'samrah 2.docx', 'samrah 3.docx', 'samrah.docx', 'Saya bhi saath jab chodd jaye aisi hai tanhai (Nusrat Fateh Ali Khan).mp3', 'selected cell line lect.10.ppt', 'Sohaib Farooqi (www.shbtub.com).doc', 'syntax.txt', 'table 2b (1).docx', 'table 2b (2).docx', 'table 2b.docx', 'TCR.pptx', 'TF10378274.dotx', 'Tu Tu Hai Wahi.mp3', 'Untitled.ipynb', 'Yaara Full Song Manjul KhattarArishfa KhanMain ChahuTujhe Kisi Aur Ko Tu Chahe Yaara.mp3']\n"
     ]
    }
   ],
   "source": [
    "#listdir()\n",
    "#ap jis directory mein hain us diretory mein jitney folder/files hain ye un ki list bna kr de ga\n",
    "print(os.listdir())\n",
    "\n",
    "#ab agr aapko apni directory k folders/files ki list nhi chahiye blkey kisi r directory k folders/files ki list chahiye to\n",
    "#is k do tareekey hain aik to wohi k aap apni directory change kr dein r dusra print(os.listdir(r'C:\\Users\\uni-tech\\Documents'))"
   ]
  },
  {
   "cell_type": "code",
   "execution_count": 13,
   "metadata": {},
   "outputs": [
    {
     "name": "stdout",
     "output_type": "stream",
     "text": [
      "C:\\Users\\uni-tech\\Downloads\\.ipynb_checkpoints\n",
      "C:\\Users\\uni-tech\\Downloads\\001001190163465-1.PDF\n",
      "C:\\Users\\uni-tech\\Downloads\\006001190147624-1 (1).PDF\n",
      "C:\\Users\\uni-tech\\Downloads\\006001190147624-1.PDF\n",
      "C:\\Users\\uni-tech\\Downloads\\006001190291076-1.PDF\n",
      "C:\\Users\\uni-tech\\Downloads\\006001190291076-2.PDF\n",
      "C:\\Users\\uni-tech\\Downloads\\006001190291076-3.PDF\n",
      "C:\\Users\\uni-tech\\Downloads\\006001190291076-4.PDF\n",
      "C:\\Users\\uni-tech\\Downloads\\006001190291076-5.PDF\n",
      "C:\\Users\\uni-tech\\Downloads\\1f0e22abc84295aadd9f4f8db9a5f724.jpg\n",
      "C:\\Users\\uni-tech\\Downloads\\69bb83318f6c2f7630661b95f1385195.jpg\n",
      "C:\\Users\\uni-tech\\Downloads\\756.JPG\n",
      "C:\\Users\\uni-tech\\Downloads\\aaniee.pptx\n",
      "C:\\Users\\uni-tech\\Downloads\\ACKNOWLEDGEMENT (1).docx\n",
      "C:\\Users\\uni-tech\\Downloads\\ACKNOWLEDGEMENT (2).docx\n",
      "C:\\Users\\uni-tech\\Downloads\\ACKNOWLEDGEMENT (3).docx\n",
      "C:\\Users\\uni-tech\\Downloads\\ACKNOWLEDGEMENT.docx\n",
      "C:\\Users\\uni-tech\\Downloads\\AINNIE CV (1).doc\n",
      "C:\\Users\\uni-tech\\Downloads\\AINNIE CV.doc\n",
      "C:\\Users\\uni-tech\\Downloads\\AlbumArtSmall.jpg\n",
      "C:\\Users\\uni-tech\\Downloads\\Anaconda3-5.3.0-Windows-x86_64.exe\n",
      "C:\\Users\\uni-tech\\Downloads\\Baatein Ye Kabhi Na Arjit Singh Khamoshiyan [Songsx.Pk].mp3\n",
      "C:\\Users\\uni-tech\\Downloads\\bacteriocinactivitylactobacillusparacaseiisolatedfromdonkeymilk (1).pdf\n",
      "C:\\Users\\uni-tech\\Downloads\\bacteriocinactivitylactobacillusparacaseiisolatedfromdonkeymilk.pdf\n",
      "C:\\Users\\uni-tech\\Downloads\\bsek-karachi-board-matric-revised-date-sheet-2019.jpg\n",
      "C:\\Users\\uni-tech\\Downloads\\Cell lines\n",
      "C:\\Users\\uni-tech\\Downloads\\ChromeSetup (1).exe\n",
      "C:\\Users\\uni-tech\\Downloads\\ChromeSetup (2).exe\n",
      "C:\\Users\\uni-tech\\Downloads\\ChromeSetup.exe\n",
      "C:\\Users\\uni-tech\\Downloads\\Classic-CV-Template.docx\n",
      "C:\\Users\\uni-tech\\Downloads\\Coke Studio Season 12 Ram Pam Zoe Viccaji & Shahab Hussain.mp3\n",
      "C:\\Users\\uni-tech\\Downloads\\Coke Studio Season 12 Wohi Khuda Hai Atif Aslam.mp3\n",
      "C:\\Users\\uni-tech\\Downloads\\COMPLEMENT SYSTEM 601.ppt\n",
      "C:\\Users\\uni-tech\\Downloads\\cu xray group 11-12\n",
      "C:\\Users\\uni-tech\\Downloads\\CURRICULUM VITAE PARVAIZ.doc\n",
      "C:\\Users\\uni-tech\\Downloads\\cv (1).docx\n",
      "C:\\Users\\uni-tech\\Downloads\\cv (2).docx\n",
      "C:\\Users\\uni-tech\\Downloads\\cv (3).docx\n",
      "C:\\Users\\uni-tech\\Downloads\\cv (4).docx\n",
      "C:\\Users\\uni-tech\\Downloads\\cv.docx\n",
      "C:\\Users\\uni-tech\\Downloads\\desktop.ini\n",
      "C:\\Users\\uni-tech\\Downloads\\donuts.ipynb\n",
      "C:\\Users\\uni-tech\\Downloads\\duck.text\n",
      "C:\\Users\\uni-tech\\Downloads\\FARAH MALIK - Copy(1) (1).ppt\n",
      "C:\\Users\\uni-tech\\Downloads\\FARAH MALIK - Copy(1).ppt\n",
      "C:\\Users\\uni-tech\\Downloads\\Farhan Ali Waris Maan Agai Hussain Noha 2013.mp3\n",
      "C:\\Users\\uni-tech\\Downloads\\FINAL THESIS (DO NOT TOUCH) (1).pdf\n",
      "C:\\Users\\uni-tech\\Downloads\\FINAL THESIS (DO NOT TOUCH).pdf\n",
      "C:\\Users\\uni-tech\\Downloads\\FINAL THESIS OK 2.docx\n",
      "C:\\Users\\uni-tech\\Downloads\\Folder.jpg\n",
      "C:\\Users\\uni-tech\\Downloads\\furelise.mid\n",
      "C:\\Users\\uni-tech\\Downloads\\General Microbiology Laboratory Quiz.docx\n",
      "C:\\Users\\uni-tech\\Downloads\\Git-2.19.2-64-bit.exe\n",
      "C:\\Users\\uni-tech\\Downloads\\GitHubDesktopSetup.exe\n",
      "C:\\Users\\uni-tech\\Downloads\\internal-use-of-tinctures.pdf\n",
      "C:\\Users\\uni-tech\\Downloads\\j.ipynb\n",
      "C:\\Users\\uni-tech\\Downloads\\Jo Bheji Thi Dua - Shanghai (Shekhar _ Nandini).FLV.mp3\n",
      "C:\\Users\\uni-tech\\Downloads\\may dhundnay zamanay ko (1).wav\n",
      "C:\\Users\\uni-tech\\Downloads\\may dhundnay zamanay ko.wav\n",
      "C:\\Users\\uni-tech\\Downloads\\micro prac.ipynb\n",
      "C:\\Users\\uni-tech\\Downloads\\microsoft.train4sure.98-381.v2019-09-01.by.christian.22q.vce\n",
      "C:\\Users\\uni-tech\\Downloads\\mirosoft Exam Questions samples (1).enc\n",
      "C:\\Users\\uni-tech\\Downloads\\mirosoft Exam Questions samples (2).enc\n",
      "C:\\Users\\uni-tech\\Downloads\\mirosoft Exam Questions samples.enc\n",
      "C:\\Users\\uni-tech\\Downloads\\new_micro.ipynb\n",
      "C:\\Users\\uni-tech\\Downloads\\not_important\n",
      "C:\\Users\\uni-tech\\Downloads\\not_important1\n",
      "C:\\Users\\uni-tech\\Downloads\\nousheen thesis book (1).docx\n",
      "C:\\Users\\uni-tech\\Downloads\\nousheen thesis book.docx\n",
      "C:\\Users\\uni-tech\\Downloads\\Python_Assignments_1to6\n",
      "C:\\Users\\uni-tech\\Downloads\\Python_Assignments_1to6.zip\n",
      "C:\\Users\\uni-tech\\Downloads\\recall.doc\n",
      "C:\\Users\\uni-tech\\Downloads\\rufus.ini\n",
      "C:\\Users\\uni-tech\\Downloads\\sahil pay khary ho chalay jana.wav\n",
      "C:\\Users\\uni-tech\\Downloads\\samrah 2.docx\n",
      "C:\\Users\\uni-tech\\Downloads\\samrah 3.docx\n",
      "C:\\Users\\uni-tech\\Downloads\\samrah.docx\n",
      "C:\\Users\\uni-tech\\Downloads\\Saya bhi saath jab chodd jaye aisi hai tanhai (Nusrat Fateh Ali Khan).mp3\n",
      "C:\\Users\\uni-tech\\Downloads\\selected cell line lect.10.ppt\n",
      "C:\\Users\\uni-tech\\Downloads\\Sohaib Farooqi (www.shbtub.com).doc\n",
      "C:\\Users\\uni-tech\\Downloads\\syntax.txt\n",
      "C:\\Users\\uni-tech\\Downloads\\table 2b (1).docx\n",
      "C:\\Users\\uni-tech\\Downloads\\table 2b (2).docx\n",
      "C:\\Users\\uni-tech\\Downloads\\table 2b.docx\n",
      "C:\\Users\\uni-tech\\Downloads\\TCR.pptx\n",
      "C:\\Users\\uni-tech\\Downloads\\TF10378274.dotx\n",
      "C:\\Users\\uni-tech\\Downloads\\Tu Tu Hai Wahi.mp3\n",
      "C:\\Users\\uni-tech\\Downloads\\Untitled.ipynb\n",
      "C:\\Users\\uni-tech\\Downloads\\Yaara Full Song Manjul KhattarArishfa KhanMain ChahuTujhe Kisi Aur Ko Tu Chahe Yaara.mp3\n"
     ]
    }
   ],
   "source": [
    "#agr mjhe ile k sath sath us ka path bhi print krwana hai to join use karein gey\n",
    "for files in os.listdir():\n",
    "    print(os.path.join(os.getcwd(),files))\n",
    "#for different directory\n",
    "#for files in os.listdir(r'C:\\Users\\uni-tech\\Documents'):\n",
    "    #print(os.path.join(r'C:\\Users\\uni-tech\\Documents',files))"
   ]
  },
  {
   "cell_type": "code",
   "execution_count": 22,
   "metadata": {},
   "outputs": [
    {
     "name": "stdout",
     "output_type": "stream",
     "text": [
      "current path:   C:\\Users\\uni-tech\\Documents\n",
      "folder names:   ['.ipynb_checkpoints', 'Adobe', 'cards', 'cards.text', 'Custom Office Templates', 'My Music', 'My Pictures', 'My Videos', 'Notes', 'Python Scripts', 'Virtual Machines']\n",
      "file names:     ['10. Prevention Control and Eradication of Disease(1)', 'Default.rdp', 'desktop.ini', 'Guinea worm disease.docx', 'GUINEA WORM DISEASE.pptx', 'Guinea.docx', 'https.docx', 'Long Range PCR refers to the amplification of DNA lengths that cannot typically be amplified using routine PCR methods or reagents.docx', 'Rescue.asd', 'Untitled.ipynb', '~$Rescue.asd']\n",
      "current path:   C:\\Users\\uni-tech\\Documents\\.ipynb_checkpoints\n",
      "folder names:   []\n",
      "file names:     ['Untitled-checkpoint.ipynb']\n",
      "current path:   C:\\Users\\uni-tech\\Documents\\Adobe\n",
      "folder names:   []\n",
      "file names:     ['PhotoshopPrefsManager-20181017-203215.log']\n",
      "current path:   C:\\Users\\uni-tech\\Documents\\cards\n",
      "folder names:   []\n",
      "file names:     []\n",
      "current path:   C:\\Users\\uni-tech\\Documents\\cards.text\n",
      "folder names:   []\n",
      "file names:     []\n",
      "current path:   C:\\Users\\uni-tech\\Documents\\Custom Office Templates\n",
      "folder names:   []\n",
      "file names:     []\n",
      "current path:   C:\\Users\\uni-tech\\Documents\\Notes\n",
      "folder names:   []\n",
      "file names:     ['blank.jtp', 'desktop.ini', 'Dotted_Line.jtp', 'Genko_1.jtp', 'Genko_2.jtp', 'Graph.jtp', 'Memo.jtp', 'Month_Calendar.jtp', 'Music.jtp', 'Seyes.jtp', 'Shorthand.jtp', 'To_Do_List.jtp']\n",
      "current path:   C:\\Users\\uni-tech\\Documents\\Python Scripts\n",
      "folder names:   []\n",
      "file names:     []\n",
      "current path:   C:\\Users\\uni-tech\\Documents\\Virtual Machines\n",
      "folder names:   ['Oracle Enterprise Linux 64-bit', 'Oracle Enterprise Linux 64-bit (2)', 'Oracle Enterprise Linux 64-bit (3)', 'Oracle Enterprise Linux 64-bit (4)', 'Ubuntu 64-bit', 'Ubuntu 64-bit (2)', 'Ubuntu 64-bit (3)']\n",
      "file names:     []\n",
      "current path:   C:\\Users\\uni-tech\\Documents\\Virtual Machines\\Oracle Enterprise Linux 64-bit\n",
      "folder names:   []\n",
      "file names:     ['Oracle Enterprise Linux 64-bit-s001.vmdk', 'Oracle Enterprise Linux 64-bit-s002.vmdk', 'Oracle Enterprise Linux 64-bit-s003.vmdk', 'Oracle Enterprise Linux 64-bit-s004.vmdk', 'Oracle Enterprise Linux 64-bit-s005.vmdk', 'Oracle Enterprise Linux 64-bit-s006.vmdk', 'Oracle Enterprise Linux 64-bit.nvram', 'Oracle Enterprise Linux 64-bit.vmdk', 'Oracle Enterprise Linux 64-bit.vmsd', 'Oracle Enterprise Linux 64-bit.vmx', 'Oracle Enterprise Linux 64-bit.vmxf', 'vmware-0.log', 'vmware.log', 'vprintproxy-0.log', 'vprintproxy.log']\n",
      "current path:   C:\\Users\\uni-tech\\Documents\\Virtual Machines\\Oracle Enterprise Linux 64-bit (2)\n",
      "folder names:   ['564d3752-fbeb-30d0-d923-111008c58209.vmem.lck', 'Oracle Enterprise Linux 64-bit (2).vmdk.lck']\n",
      "file names:     ['564d3752-fbeb-30d0-d923-111008c58209.vmem', 'Oracle Enterprise Linux 64-bit (2)-s001.vmdk', 'Oracle Enterprise Linux 64-bit (2)-s002.vmdk', 'Oracle Enterprise Linux 64-bit (2)-s003.vmdk', 'Oracle Enterprise Linux 64-bit (2)-s004.vmdk', 'Oracle Enterprise Linux 64-bit (2)-s005.vmdk', 'Oracle Enterprise Linux 64-bit (2)-s006.vmdk', 'Oracle Enterprise Linux 64-bit (2).nvram', 'Oracle Enterprise Linux 64-bit (2).vmdk', 'Oracle Enterprise Linux 64-bit (2).vmsd', 'Oracle Enterprise Linux 64-bit (2).vmx', 'Oracle Enterprise Linux 64-bit (2).vmxf', 'vmware-0.log', 'vmware.log', 'vprintproxy-0.log', 'vprintproxy-1.log', 'vprintproxy.log']\n",
      "current path:   C:\\Users\\uni-tech\\Documents\\Virtual Machines\\Oracle Enterprise Linux 64-bit (2)\\564d3752-fbeb-30d0-d923-111008c58209.vmem.lck\n",
      "folder names:   []\n",
      "file names:     ['M08083.lck']\n",
      "current path:   C:\\Users\\uni-tech\\Documents\\Virtual Machines\\Oracle Enterprise Linux 64-bit (2)\\Oracle Enterprise Linux 64-bit (2).vmdk.lck\n",
      "folder names:   []\n",
      "file names:     ['M26994.lck']\n",
      "current path:   C:\\Users\\uni-tech\\Documents\\Virtual Machines\\Oracle Enterprise Linux 64-bit (3)\n",
      "folder names:   []\n",
      "file names:     ['Oracle Enterprise Linux 64-bit (3)-s001.vmdk', 'Oracle Enterprise Linux 64-bit (3)-s002.vmdk', 'Oracle Enterprise Linux 64-bit (3)-s003.vmdk', 'Oracle Enterprise Linux 64-bit (3)-s004.vmdk', 'Oracle Enterprise Linux 64-bit (3)-s005.vmdk', 'Oracle Enterprise Linux 64-bit (3)-s006.vmdk', 'Oracle Enterprise Linux 64-bit (3).nvram', 'Oracle Enterprise Linux 64-bit (3).vmdk', 'Oracle Enterprise Linux 64-bit (3).vmsd', 'Oracle Enterprise Linux 64-bit (3).vmx', 'Oracle Enterprise Linux 64-bit (3).vmxf', 'vmware-0.log', 'vmware-1.log', 'vmware.log', 'vprintproxy-0.log', 'vprintproxy-1.log', 'vprintproxy-2.log', 'vprintproxy.log']\n",
      "current path:   C:\\Users\\uni-tech\\Documents\\Virtual Machines\\Oracle Enterprise Linux 64-bit (4)\n",
      "folder names:   []\n",
      "file names:     ['Oracle Enterprise Linux 64-bit (4)-s004.vmdk', 'Oracle Enterprise Linux 64-bit (4)-s005.vmdk', 'Oracle Enterprise Linux 64-bit (4)-s006.vmdk', 'Oracle Enterprise Linux 64-bit (4).nvram', 'Oracle Enterprise Linux 64-bit (4).vmdk', 'Oracle Enterprise Linux 64-bit (4).vmsd', 'Oracle Enterprise Linux 64-bit (4).vmx', 'Oracle Enterprise Linux 64-bit (4).vmxf', 'vmware-0.log', 'vmware.log', 'vprintproxy-0.log', 'vprintproxy.log']\n",
      "current path:   C:\\Users\\uni-tech\\Documents\\Virtual Machines\\Ubuntu 64-bit\n",
      "folder names:   ['564dad34-537d-931c-2932-f62d7688077e.vmem.lck', 'Ubuntu 64-bit.vmdk.lck']\n",
      "file names:     ['564dad34-537d-931c-2932-f62d7688077e.vmem', 'Ubuntu 64-bit-s001.vmdk', 'Ubuntu 64-bit-s002.vmdk', 'Ubuntu 64-bit-s003.vmdk', 'Ubuntu 64-bit-s004.vmdk', 'Ubuntu 64-bit-s005.vmdk', 'Ubuntu 64-bit-s006.vmdk', 'Ubuntu 64-bit.nvram', 'Ubuntu 64-bit.vmdk', 'Ubuntu 64-bit.vmsd', 'Ubuntu 64-bit.vmx', 'Ubuntu 64-bit.vmxf', 'vmmcores-1.gz', 'vmware-0.log', 'vmware-vmx.dmp', 'vmware.log', 'vprintproxy-0.log', 'vprintproxy.log']\n",
      "current path:   C:\\Users\\uni-tech\\Documents\\Virtual Machines\\Ubuntu 64-bit\\564dad34-537d-931c-2932-f62d7688077e.vmem.lck\n",
      "folder names:   []\n",
      "file names:     ['M64571.lck']\n",
      "current path:   C:\\Users\\uni-tech\\Documents\\Virtual Machines\\Ubuntu 64-bit\\Ubuntu 64-bit.vmdk.lck\n",
      "folder names:   []\n",
      "file names:     ['M61585.lck']\n",
      "current path:   C:\\Users\\uni-tech\\Documents\\Virtual Machines\\Ubuntu 64-bit (2)\n",
      "folder names:   []\n",
      "file names:     ['Ubuntu 64-bit (2)-a1b80ada.vmem', 'Ubuntu 64-bit (2)-a1b80ada.vmss', 'Ubuntu 64-bit (2)-s001.vmdk', 'Ubuntu 64-bit (2)-s002.vmdk', 'Ubuntu 64-bit (2)-s003.vmdk', 'Ubuntu 64-bit (2)-s004.vmdk', 'Ubuntu 64-bit (2)-s005.vmdk', 'Ubuntu 64-bit (2)-s006.vmdk', 'Ubuntu 64-bit (2).nvram', 'Ubuntu 64-bit (2).vmdk', 'Ubuntu 64-bit (2).vmsd', 'Ubuntu 64-bit (2).vmx', 'Ubuntu 64-bit (2).vmxf', 'vmware-0.log', 'vmware.log', 'vprintproxy-0.log', 'vprintproxy.log']\n",
      "current path:   C:\\Users\\uni-tech\\Documents\\Virtual Machines\\Ubuntu 64-bit (3)\n",
      "folder names:   []\n",
      "file names:     ['Ubuntu 64-bit (3)-a1b80afb.vmem', 'Ubuntu 64-bit (3)-a1b80afb.vmss', 'Ubuntu 64-bit (3)-s001.vmdk', 'Ubuntu 64-bit (3)-s002.vmdk', 'Ubuntu 64-bit (3)-s003.vmdk', 'Ubuntu 64-bit (3)-s004.vmdk', 'Ubuntu 64-bit (3)-s005.vmdk', 'Ubuntu 64-bit (3)-s006.vmdk', 'Ubuntu 64-bit (3).nvram', 'Ubuntu 64-bit (3).vmdk', 'Ubuntu 64-bit (3).vmsd', 'Ubuntu 64-bit (3).vmx', 'Ubuntu 64-bit (3).vmxf', 'vmware-0.log', 'vmware-1.log', 'vmware.log', 'vprintproxy-0.log', 'vprintproxy-1.log', 'vprintproxy.log']\n"
     ]
    }
   ],
   "source": [
    "#agr ap chtey ho k urrent directory k fles r folders k sath sath un k under wali files r folders r un k under wale bhi print ho to os.walk\n",
    "fileiter=os.walk(r'C:\\Users\\uni-tech\\Documents')\n",
    "for curr_path, folder_name, file_names in fileiter:\n",
    "    print(f'current path:   {curr_path}')\n",
    "    print(f'folder names:   {folder_name}')\n",
    "    print(f'file names:     {file_names}')"
   ]
  },
  {
   "cell_type": "code",
   "execution_count": 23,
   "metadata": {},
   "outputs": [],
   "source": [
    "#rmdir empty folder ko delete krta hai\n",
    "os.rmdir('not_important')"
   ]
  },
  {
   "cell_type": "code",
   "execution_count": 24,
   "metadata": {},
   "outputs": [],
   "source": [
    "#agr aap ne aik new folder create krna r us k unde aik r folder create krna hai to\n",
    "os.makedirs('new/abcdef')"
   ]
  },
  {
   "cell_type": "markdown",
   "metadata": {},
   "source": [
    "# sys"
   ]
  },
  {
   "cell_type": "code",
   "execution_count": null,
   "metadata": {},
   "outputs": [],
   "source": [
    "sys module\n",
    "---the sys module provoide information about constants functions and methods of the python interpreter\n",
    "---dir(system) give the summary of the available constants functions and methods \n",
    "---sys.version \n",
    "---sys.argv\n",
    "     the  value of sys.argv is a python list ofb command line arguments that were passed to the python script\n",
    "---sys.stdin, sys.stdout, sys.stderr\n",
    "---Redirection operators\n",
    "---Redirection\n",
    "     fh=open('test.txt','w')\n",
    "     sys.stdout=fh"
   ]
  },
  {
   "cell_type": "code",
   "execution_count": 29,
   "metadata": {},
   "outputs": [
    {
     "data": {
      "text/plain": [
       "'3.7.0 (default, Jun 28 2018, 08:04:48) [MSC v.1912 64 bit (AMD64)]'"
      ]
     },
     "execution_count": 29,
     "metadata": {},
     "output_type": "execute_result"
    }
   ],
   "source": [
    "import sys\n",
    "sys.version\n"
   ]
  },
  {
   "cell_type": "code",
   "execution_count": 28,
   "metadata": {},
   "outputs": [
    {
     "ename": "TypeError",
     "evalue": "'list' object is not callable",
     "output_type": "error",
     "traceback": [
      "\u001b[1;31m---------------------------------------------------------------------------\u001b[0m",
      "\u001b[1;31mTypeError\u001b[0m                                 Traceback (most recent call last)",
      "\u001b[1;32m<ipython-input-28-14233fe769aa>\u001b[0m in \u001b[0;36m<module>\u001b[1;34m()\u001b[0m\n\u001b[1;32m----> 1\u001b[1;33m \u001b[0msys\u001b[0m\u001b[1;33m.\u001b[0m\u001b[0margv\u001b[0m\u001b[1;33m(\u001b[0m\u001b[1;34m'nimrah'\u001b[0m\u001b[1;33m,\u001b[0m\u001b[1;34m'jabbin'\u001b[0m\u001b[1;33m)\u001b[0m\u001b[1;33m\u001b[0m\u001b[0m\n\u001b[0m",
      "\u001b[1;31mTypeError\u001b[0m: 'list' object is not callable"
     ]
    }
   ],
   "source": [
    "sys.argv\n",
    "#sir noman ki video"
   ]
  },
  {
   "cell_type": "code",
   "execution_count": 32,
   "metadata": {},
   "outputs": [],
   "source": [
    "f=open('cards.txt','w')\n",
    "sys.stdin=f"
   ]
  },
  {
   "cell_type": "code",
   "execution_count": 33,
   "metadata": {},
   "outputs": [
    {
     "ename": "SyntaxError",
     "evalue": "invalid syntax (<ipython-input-33-74a77c8b270c>, line 1)",
     "output_type": "error",
     "traceback": [
      "\u001b[1;36m  File \u001b[1;32m\"<ipython-input-33-74a77c8b270c>\"\u001b[1;36m, line \u001b[1;32m1\u001b[0m\n\u001b[1;33m    stdout is a file-like object; calling its write function\u001b[0m\n\u001b[1;37m                   ^\u001b[0m\n\u001b[1;31mSyntaxError\u001b[0m\u001b[1;31m:\u001b[0m invalid syntax\n"
     ]
    }
   ],
   "source": [
    "stdout is a file-like object; calling its write function\n",
    "will print out whatever string you give it. In fact, this \n",
    "is what the print function really does; it adds a carriage \n",
    "return to the end of the string you're printing, and calls \n",
    "sys.stdout.write. ... They\n",
    "have no read method, only write."
   ]
  },
  {
   "cell_type": "code",
   "execution_count": 34,
   "metadata": {},
   "outputs": [],
   "source": [
    "def loadfromfile(filename, charset=None):\n",
    "        \"\"\"Loads data set from filename.\"\"\"\n",
    "\n",
    "        try:\n",
    "            f = open(filename, 'rb')\n",
    "        except OSError as e:\n",
    "            stderr.write(\"Couldn't open data set file, error: {0}\\n\".format(e))\n",
    "            return None\n",
    "        else:\n",
    "            try:\n",
    "                dataset = pickle.load(f)\n",
    "            except Exception as e:\n",
    "                stderr.write(\"Couldn't load data set, error: {0}\\n\".format(e))\n",
    "                return None\n",
    "            else:\n",
    "                stderr.write(\"Loaded data set from {0}\\n\".format(filename))\n",
    "                return dataset\n",
    "        finally:\n",
    "            f.close() "
   ]
  },
  {
   "cell_type": "code",
   "execution_count": 35,
   "metadata": {},
   "outputs": [],
   "source": [
    "def ask_username(config):\n",
    "    stdout.write(\"Username: \".encode('utf-8'))\n",
    "    raw_username = raw_input()\n",
    "    try:\n",
    "        get_user(config.temboard['users'], raw_username)\n",
    "    except HTTPError:\n",
    "        pass\n",
    "    except ConfigurationError:\n",
    "        pass\n",
    "    else:\n",
    "        stdout.write(\"User already exists.\\n\")\n",
    "        return ask_username(config)\n",
    "    try:\n",
    "        username = raw_username\n",
    "        validate_parameters({'username': username},\n",
    "                            [('username', T_USERNAME, False)])\n",
    "    except HTTPError:\n",
    "        stdout.write(\"Invalid username.\\n\")\n",
    "        return ask_username(config)\n",
    "    return username \n"
   ]
  },
  {
   "cell_type": "code",
   "execution_count": 3,
   "metadata": {},
   "outputs": [],
   "source": [
    "with open('cards.txt','w') as f:      #with ka faida ye hai file ko close krney ki zarurat nhi ye automatically close ho jayegi execusion k baad\n",
    "    f.write('hello cards')"
   ]
  },
  {
   "cell_type": "code",
   "execution_count": 4,
   "metadata": {},
   "outputs": [],
   "source": [
    "#rename\n",
    "import os\n",
    "os.rename('cards.txt','new_cards.txt')   #('old name','new_name')"
   ]
  },
  {
   "cell_type": "code",
   "execution_count": 9,
   "metadata": {},
   "outputs": [
    {
     "name": "stdout",
     "output_type": "stream",
     "text": [
      "<_io.TextIOWrapper name='temporary.py' mode='a' encoding='cp1252'>\n"
     ]
    }
   ],
   "source": [
    "#remove\n",
    "print(open('temporary.py','a'))\n",
    "#os.remove('temporary.py') it will delete the file"
   ]
  },
  {
   "cell_type": "code",
   "execution_count": 7,
   "metadata": {
    "scrolled": true
   },
   "outputs": [
    {
     "ename": "PermissionError",
     "evalue": "[Errno 13] Permission denied: 'c:\\\\users\\\\uni-tech\\\\AppData\\\\local\\\\programs\\\\python\\\\python37-32\\\\duck1.py'",
     "output_type": "error",
     "traceback": [
      "\u001b[1;31m---------------------------------------------------------------------------\u001b[0m",
      "\u001b[1;31mPermissionError\u001b[0m                           Traceback (most recent call last)",
      "\u001b[1;32m<ipython-input-7-1929762c4483>\u001b[0m in \u001b[0;36m<module>\u001b[1;34m()\u001b[0m\n\u001b[0;32m      1\u001b[0m \u001b[1;32mimport\u001b[0m \u001b[0mos\u001b[0m\u001b[1;33m\u001b[0m\u001b[0m\n\u001b[0;32m      2\u001b[0m \u001b[0mos\u001b[0m\u001b[1;33m.\u001b[0m\u001b[0mmkdir\u001b[0m\u001b[1;33m(\u001b[0m\u001b[1;34mr'c:\\users\\uni-tech\\AppData\\local\\programs\\python\\python37-32\\duck1.py'\u001b[0m\u001b[1;33m)\u001b[0m\u001b[1;33m\u001b[0m\u001b[0m\n\u001b[1;32m----> 3\u001b[1;33m \u001b[0mg\u001b[0m\u001b[1;33m=\u001b[0m\u001b[0mopen\u001b[0m\u001b[1;33m(\u001b[0m\u001b[1;34mr'c:\\users\\uni-tech\\AppData\\local\\programs\\python\\python37-32\\duck1.py'\u001b[0m\u001b[1;33m,\u001b[0m\u001b[1;34m'w'\u001b[0m\u001b[1;33m)\u001b[0m\u001b[1;33m\u001b[0m\u001b[0m\n\u001b[0m\u001b[0;32m      4\u001b[0m \u001b[0mg\u001b[0m\u001b[1;33m.\u001b[0m\u001b[0mwrite\u001b[0m\u001b[1;33m(\u001b[0m\u001b[1;34m'print(2+3)'\u001b[0m\u001b[1;33m)\u001b[0m\u001b[1;33m\u001b[0m\u001b[0m\n",
      "\u001b[1;31mPermissionError\u001b[0m: [Errno 13] Permission denied: 'c:\\\\users\\\\uni-tech\\\\AppData\\\\local\\\\programs\\\\python\\\\python37-32\\\\duck1.py'"
     ]
    }
   ],
   "source": [
    "import os\n",
    "os.mkdir(r'c:\\users\\uni-tech\\AppData\\local\\programs\\python\\python37-32\\duck1.py')\n",
    "g=open(r'c:\\users\\uni-tech\\AppData\\local\\programs\\python\\python37-32\\duck1.py','w')\n",
    "g.write('print(2+3)')"
   ]
  },
  {
   "cell_type": "code",
   "execution_count": null,
   "metadata": {},
   "outputs": [],
   "source": [
    "sys.argv aik list deta hai jis mein wo sarey arguments hotey hain jo \n",
    "hum ne command line pe diye hotey hain r list ka pehla element by default wo file khud hoti hai"
   ]
  },
  {
   "cell_type": "code",
   "execution_count": 5,
   "metadata": {},
   "outputs": [
    {
     "name": "stdout",
     "output_type": "stream",
     "text": [
      "5\n"
     ]
    }
   ],
   "source": [
    "print(2+3)"
   ]
  },
  {
   "cell_type": "code",
   "execution_count": null,
   "metadata": {},
   "outputs": [],
   "source": [
    "Indentation in Python refers to the (spaces and tabs) that are used at the beginning of a statement.\n",
    "The statements with the same indentation belong to the same group called a suite."
   ]
  },
  {
   "cell_type": "code",
   "execution_count": null,
   "metadata": {},
   "outputs": [],
   "source": [
    "By default, Python uses four spaces for indentation, and it can be managed by the programmer"
   ]
  },
  {
   "cell_type": "code",
   "execution_count": 10,
   "metadata": {},
   "outputs": [
    {
     "name": "stdout",
     "output_type": "stream",
     "text": [
      "Hello\n",
      " \t\n",
      "\r",
      "\u000b",
      "\f",
      "\n",
      "Geeksforgeeks\n"
     ]
    }
   ],
   "source": [
    "# import string library function  \n",
    "import string  \n",
    "  \n",
    "print(\"Hello\") \n",
    "# Storing the characters space, tab etc \n",
    "result = string.whitespace \n",
    "  \n",
    "# Printing the values \n",
    "print(result) \n",
    "print(\"Geeksforgeeks\") "
   ]
  },
  {
   "cell_type": "code",
   "execution_count": 11,
   "metadata": {},
   "outputs": [
    {
     "name": "stdout",
     "output_type": "stream",
     "text": [
      "H\n",
      "e\n",
      "y\n",
      ",\n",
      "printable Value is:  \n",
      " \n",
      "G\n",
      "e\n",
      "e\n",
      "k\n",
      "s\n",
      "printable Value is:  \n",
      " \n",
      "!\n",
      ",\n",
      "printable Value is:  \n",
      " \n",
      "H\n",
      "o\n",
      "w\n",
      "printable Value is:  \n",
      " \n",
      "a\n",
      "r\n",
      "e\n",
      "printable Value is:  \n",
      " \n",
      "y\n",
      "o\n",
      "u\n",
      "?\n"
     ]
    }
   ],
   "source": [
    "# import string library function  \n",
    "import string  \n",
    "    \n",
    "# An input string. \n",
    "Sentence = \"Hey, Geeks !, How are you?\"\n",
    "  \n",
    "for i in Sentence: \n",
    "      \n",
    "    # checking whether the whitespace is present  \n",
    "    if i in string.whitespace: \n",
    "          \n",
    "        # Printing the whitespace values  \n",
    "        print(\"printable Value is: \" + i) \n",
    "    print(i)"
   ]
  },
  {
   "cell_type": "code",
   "execution_count": 13,
   "metadata": {},
   "outputs": [
    {
     "name": "stdout",
     "output_type": "stream",
     "text": [
      "Using __doc__:\n",
      "Demonstrate docstrings and does nothing really.\n",
      "Using help:\n",
      "Help on function my_function in module __main__:\n",
      "\n",
      "my_function()\n",
      "    Demonstrate docstrings and does nothing really.\n",
      "\n"
     ]
    }
   ],
   "source": [
    "def my_function(): \n",
    "    \"\"\"Demonstrate docstrings and does nothing really.\"\"\"\n",
    "   \n",
    "    return None\n",
    "  \n",
    "print(\"Using __doc__:\")\n",
    "print(my_function.__doc__) \n",
    "  \n",
    "print(\"Using help:\")\n",
    "help(my_function) "
   ]
  },
  {
   "cell_type": "code",
   "execution_count": 16,
   "metadata": {},
   "outputs": [
    {
     "name": "stdout",
     "output_type": "stream",
     "text": [
      "Returns arg1 raised to power arg2.\n"
     ]
    }
   ],
   "source": [
    "# One-line Docstrings\n",
    "\n",
    "# As the name suggests, one line docstrings fit in one line. \n",
    "# They are used in obvious cases. The closing quotes are on \n",
    "# the same line as the opening quotes. This looks better for one-liners.\n",
    "\n",
    "\n",
    "def power(a, b): \n",
    "    \"\"\"Returns arg1 raised to power arg2.\"\"\"\n",
    "   \n",
    "    return a**b \n",
    "  \n",
    "print(power.__doc__)\n"
   ]
  },
  {
   "cell_type": "code",
   "execution_count": 19,
   "metadata": {},
   "outputs": [
    {
     "name": "stdout",
     "output_type": "stream",
     "text": [
      " \n",
      "    Summary line. \n",
      "    \n",
      "    Extended description of function. \n",
      "  \n",
      "    Parameters: \n",
      "    arg1 (int): Description of arg1 \n",
      "  \n",
      "    Returns: \n",
      "    int: Description of return value \n",
      "  \n",
      "    \n"
     ]
    }
   ],
   "source": [
    "# Multi-line Docstrings\n",
    "\n",
    "# Multi-line docstrings consist of a summary line just like a\n",
    "# one-line docstring, followed by a blank line, followed by a \n",
    "# more elaborate description. The summary line may be on the \n",
    "# same line as the opening quotes or on the next line.\n",
    "# The example below shows a multi-line docstring.\n",
    "\n",
    "\n",
    "\n",
    "def my_function(arg1): \n",
    "    \"\"\" \n",
    "    Summary line. \n",
    "    \n",
    "    Extended description of function. \n",
    "  \n",
    "    Parameters: \n",
    "    arg1 (int): Description of arg1 \n",
    "  \n",
    "    Returns: \n",
    "    int: Description of return value \n",
    "  \n",
    "    \"\"\"\n",
    "  \n",
    "    return arg1 \n",
    "  \n",
    "print(my_function.__doc__) "
   ]
  },
  {
   "cell_type": "code",
   "execution_count": null,
   "metadata": {},
   "outputs": [],
   "source": [
    "Indentation in Docstrings\n",
    "\n",
    "The entire docstring is indented the same as the quotes \n",
    "at its first line. Docstring processing tools will strip \n",
    "a uniform amount of indentation from the second and further\n",
    "lines of the docstring, equal to the minimum indentation of \n",
    "all non-blank lines after the first line. Any indentation in \n",
    "the first line of the docstring (i.e., up to the first newline) \n",
    "is insignificant and removed. Relative indentation of later lines \n",
    "in the docstring is retained.\n",
    "\n",
    "Docstrings in Classes\n"
   ]
  },
  {
   "cell_type": "code",
   "execution_count": null,
   "metadata": {},
   "outputs": [],
   "source": []
  }
 ],
 "metadata": {
  "kernelspec": {
   "display_name": "Python 3",
   "language": "python",
   "name": "python3"
  },
  "language_info": {
   "codemirror_mode": {
    "name": "ipython",
    "version": 3
   },
   "file_extension": ".py",
   "mimetype": "text/x-python",
   "name": "python",
   "nbconvert_exporter": "python",
   "pygments_lexer": "ipython3",
   "version": "3.7.0"
  }
 },
 "nbformat": 4,
 "nbformat_minor": 2
}
